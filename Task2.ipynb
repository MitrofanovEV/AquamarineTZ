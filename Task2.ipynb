{
 "cells": [
  {
   "cell_type": "code",
   "execution_count": 1,
   "id": "b8c8b589-88b9-482d-992d-76571668d20b",
   "metadata": {},
   "outputs": [],
   "source": [
    "import json\n",
    "import numpy as np\n",
    "from matplotlib import pyplot as plt\n",
    "from scipy import stats\n",
    "from scipy.optimize import curve_fit"
   ]
  },
  {
   "cell_type": "markdown",
   "id": "b683ae04-61bf-44b4-abfa-405de50b5d1c",
   "metadata": {},
   "source": [
    "<b>Читаем данные</b>"
   ]
  },
  {
   "cell_type": "code",
   "execution_count": 2,
   "id": "1e579b2b-3ac5-43f7-8eaa-459ac5d7a7d5",
   "metadata": {},
   "outputs": [],
   "source": [
    "with open('data.json') as json_file:\n",
    "    data = json.load(json_file)"
   ]
  },
  {
   "cell_type": "code",
   "execution_count": 3,
   "id": "e8ef40eb-1a77-4cac-8cc3-c81c21b94ee9",
   "metadata": {},
   "outputs": [],
   "source": [
    "points = list()\n",
    "for key in data.keys():\n",
    "    for formular in data[key]['formulars']:\n",
    "        points.append((formular['cycle'], formular['distance']))"
   ]
  },
  {
   "cell_type": "markdown",
   "id": "9d334f9f-4bac-416b-a9bc-be7232a2a6bd",
   "metadata": {},
   "source": [
    "<b>Создадим класс для удобной работы с данными</b>"
   ]
  },
  {
   "cell_type": "code",
   "execution_count": 4,
   "id": "592190be-0919-412c-b523-f3e67f6e8dd7",
   "metadata": {},
   "outputs": [],
   "source": [
    "class NotDiscretisedError(RuntimeError):\n",
    "    pass\n",
    "\n",
    "class POI_Object:\n",
    "    \n",
    "    def __init__(self, data:list, og_idx = None):\n",
    "        self.data = np.array(data)\n",
    "        self.og_idx = og_idx\n",
    "        self.discr = False\n",
    "        self.eps = None\n",
    "        self.div = None\n",
    "        \n",
    "    def f(self, x, a, b, c):\n",
    "        return a * x**2 + b*x + c\n",
    "    \n",
    "    def crop(self, x1, x2, y1, y2):\n",
    "        arr = self.data\n",
    "        new = list()\n",
    "        idx = list()\n",
    "        for i in range(arr.shape[0]):\n",
    "            if x1 <= arr[i,0] <= x2 and y1 <= arr[i,1] <= y2:\n",
    "                idx.append(i)\n",
    "                new.append((arr[i,0], arr[i,1]))\n",
    "        return POI_Object(new, idx)\n",
    "\n",
    "    def discretise(self, eps):\n",
    "        self.eps = eps\n",
    "        self.div = np.remainder(self.data[:,1], eps)\n",
    "        self.discr = True\n",
    "        self.data[:,1] = np.floor_divide(self.data[:,1], eps)\n",
    "        self.data = np.array(self.data, dtype = int)\n",
    "    \n",
    "    def plot(self):\n",
    "        plt.xlabel('cycle')\n",
    "        plt.ylabel('distance')\n",
    "        plt.scatter(self.data[:,0], self.data[:,1])\n",
    "        \n",
    "    def plot_track(self, a):\n",
    "        plt.xlabel('cycle')\n",
    "        plt.ylabel('distance')\n",
    "        plt.scatter(self.data[:,0], self.data[:,1], color='green')\n",
    "        plt.scatter(self.data[list(a),0], self.data[list(a),1], color='red')\n",
    "        \n",
    "    def plot_pred(self, a):\n",
    "        x = np.arange(np.max(self.data[:,0]))\n",
    "        plt.xlabel('cycle')\n",
    "        plt.ylabel('distance')\n",
    "        plt.scatter(self.data[:,0], self.data[:,1], color='green', label = 'noise')\n",
    "        plt.scatter(x, self.f(x, *self.popt), color = 'blue', label = 'predicted')\n",
    "        plt.scatter(self.data[list(a),0], self.data[list(a),1], color='red', label = 'detected')\n",
    "        plt.legend()\n",
    "        \n",
    "    def undiscretise(self):\n",
    "        if not self.discr:\n",
    "            raise NotDiscretisedError()\n",
    "        self.data = np.array(self.data, dtype = float)\n",
    "        self.data[:,1] = self.data[:,1] * self.eps + self.div\n",
    "        self.div = None\n",
    "        self.discr = False\n",
    "        self.eps = None\n",
    "        \n",
    "    def denoise(self, k = 3, thr = 5):\n",
    "        \"\"\"фильтрация по порогу на основе k-соседей\"\"\"\n",
    "        new = list()\n",
    "        idx = list()\n",
    "        for i in range(self.data.shape[0]):\n",
    "            dist = np.linalg.norm(self.data - self.data[i], axis = 1)\n",
    "            dist = np.sort(dist)\n",
    "            score = np.sum(dist[0:k+1])\n",
    "            #print(score)\n",
    "            if score < thr:\n",
    "                new.append(self.data[i])\n",
    "                idx.append(self.og_idx[i])\n",
    "        return POI_Object(new,idx)\n",
    "    \n",
    "    def fit(self, a):\n",
    "        train_x = points.data[list(a),0]\n",
    "        train_y = points.data[list(a),1]\n",
    "        self.popt, _ = curve_fit(self.f, train_x, train_y)\n",
    "        \n",
    "        \n",
    "    def check(self):\n",
    "        result = stats.linregress(self.data)\n",
    "        return result.rvalue**2"
   ]
  },
  {
   "cell_type": "code",
   "execution_count": 5,
   "id": "8e83dbf2-938f-455f-8c19-9eb0e633f977",
   "metadata": {},
   "outputs": [
    {
     "data": {
      "text/plain": [
       "(548, 2)"
      ]
     },
     "execution_count": 5,
     "metadata": {},
     "output_type": "execute_result"
    }
   ],
   "source": [
    "points =  POI_Object(points)\n",
    "points.data.shape"
   ]
  },
  {
   "cell_type": "code",
   "execution_count": 6,
   "id": "4edfed62-b1d8-4948-8a50-1599949e9363",
   "metadata": {},
   "outputs": [
    {
     "data": {
      "image/png": "[encoded data removed]",
      "text/plain": [
       "<Figure size 432x288 with 1 Axes>"
      ]
     },
     "metadata": {
      "needs_background": "light"
     },
     "output_type": "display_data"
    }
   ],
   "source": [
    "points.plot()"
   ]
  },
  {
   "cell_type": "markdown",
   "id": "6a00c819-5d6c-4581-acae-98e56e2855ad",
   "metadata": {},
   "source": [
    "<b>Демонстрация функции выбора подмножества</b>"
   ]
  },
  {
   "cell_type": "code",
   "execution_count": 7,
   "id": "ad785c20-185c-49c5-b548-0ce9507ee1a0",
   "metadata": {},
   "outputs": [],
   "source": [
    "points1 = points.crop(0, 50, 20, 30)"
   ]
  },
  {
   "cell_type": "code",
   "execution_count": 8,
   "id": "c3f70212-3b9e-4c44-8c5e-e99799c9ab9d",
   "metadata": {},
   "outputs": [
    {
     "data": {
      "text/plain": [
       "(24, 2)"
      ]
     },
     "execution_count": 8,
     "metadata": {},
     "output_type": "execute_result"
    }
   ],
   "source": [
    "points1.data.shape"
   ]
  },
  {
   "cell_type": "code",
   "execution_count": 9,
   "id": "67987162-c290-4d7b-8624-bdc02b32f6e0",
   "metadata": {},
   "outputs": [
    {
     "data": {
      "image/png": "[encoded data removed]",
      "text/plain": [
       "<Figure size 432x288 with 1 Axes>"
      ]
     },
     "metadata": {
      "needs_background": "light"
     },
     "output_type": "display_data"
    }
   ],
   "source": [
    "points1.plot()"
   ]
  },
  {
   "cell_type": "markdown",
   "id": "0fa9545e-3447-411d-8691-4fe9bde1defb",
   "metadata": {},
   "source": [
    "<b>Демонстрация функции фильтрации</b>"
   ]
  },
  {
   "cell_type": "code",
   "execution_count": 10,
   "id": "970cac3a-8c9e-4eab-8b48-21781f981507",
   "metadata": {},
   "outputs": [],
   "source": [
    "points2 = points1.denoise()"
   ]
  },
  {
   "cell_type": "code",
   "execution_count": 11,
   "id": "9f0b7fda-6605-454e-bdff-282becb0297f",
   "metadata": {},
   "outputs": [],
   "source": [
    "#points1.discretise(0.2)"
   ]
  },
  {
   "cell_type": "code",
   "execution_count": 12,
   "id": "4433f035-fee1-4b47-9dc2-0a5ccc2b31f4",
   "metadata": {},
   "outputs": [
    {
     "data": {
      "image/png": "[encoded data removed]",
      "text/plain": [
       "<Figure size 432x288 with 1 Axes>"
      ]
     },
     "metadata": {
      "needs_background": "light"
     },
     "output_type": "display_data"
    }
   ],
   "source": [
    "points2.plot()"
   ]
  },
  {
   "cell_type": "markdown",
   "id": "4d80bc1f-5c5d-4a5e-9584-05c6503796a8",
   "metadata": {},
   "source": [
    "<b>Демонстрация критерия принятия решения (на основе линейной регрессии, R-value)</b>"
   ]
  },
  {
   "cell_type": "code",
   "execution_count": 13,
   "id": "fadaaacd-1e13-4030-9286-f0c128797fc0",
   "metadata": {},
   "outputs": [
    {
     "data": {
      "text/plain": [
       "0.999977590816765"
      ]
     },
     "execution_count": 13,
     "metadata": {},
     "output_type": "execute_result"
    }
   ],
   "source": [
    "points2.check()"
   ]
  },
  {
   "cell_type": "code",
   "execution_count": 14,
   "id": "4f6b27da-9230-4dd0-af20-1c27f2306320",
   "metadata": {},
   "outputs": [],
   "source": [
    "points1 = points.crop(100, 150, 0, 10)\n",
    "points2 = points1.denoise()"
   ]
  },
  {
   "cell_type": "code",
   "execution_count": 15,
   "id": "60d00778-de51-4bbd-9973-984b04c531f9",
   "metadata": {},
   "outputs": [
    {
     "data": {
      "image/png": "[encoded data removed]",
      "text/plain": [
       "<Figure size 432x288 with 1 Axes>"
      ]
     },
     "metadata": {
      "needs_background": "light"
     },
     "output_type": "display_data"
    }
   ],
   "source": [
    "points2.plot()"
   ]
  },
  {
   "cell_type": "code",
   "execution_count": 16,
   "id": "863c1b17-31c7-417f-9c67-7d09b8d5ca7c",
   "metadata": {},
   "outputs": [
    {
     "data": {
      "text/plain": [
       "0.3957705457846735"
      ]
     },
     "execution_count": 16,
     "metadata": {},
     "output_type": "execute_result"
    }
   ],
   "source": [
    "points2.check()"
   ]
  },
  {
   "cell_type": "markdown",
   "id": "4036dda2-3a99-4908-b208-6cd4a5d13b2d",
   "metadata": {},
   "source": [
    "<b>Сам алгоритм</b>"
   ]
  },
  {
   "cell_type": "code",
   "execution_count": 17,
   "id": "878766e9-4f96-4f7e-913d-342e237f0b72",
   "metadata": {},
   "outputs": [
    {
     "data": {
      "image/png": "[encoded data removed]",
      "text/plain": [
       "<Figure size 432x288 with 1 Axes>"
      ]
     },
     "metadata": {
      "needs_background": "light"
     },
     "output_type": "display_data"
    }
   ],
   "source": [
    "from collections import Counter\n",
    "a = Counter()\n",
    "for x in range(0,250,10):\n",
    "    for y in range(0,60,5):\n",
    "        #Выбираем подмножество\n",
    "        points1 = points.crop(x, x+50, y, y+10)\n",
    "        #Фильтруем\n",
    "        points1 = points1.denoise(k = 4,thr = 9)\n",
    "        #Смотрим, чтобы было достаточно точек\n",
    "        if points1.data.shape[0] < 5:\n",
    "            continue\n",
    "        #Принимаем решение о принадлежности траектории\n",
    "        if points1.check() > 0.7:\n",
    "            a.update(points1.og_idx)\n",
    "a = Counter(el for el in a.elements() if a[el] > 2)\n",
    "#По полученным точкам строим модель и предсказываем для пропусков\n",
    "points.fit(a)\n",
    "points.plot_pred(a) "
   ]
  },
  {
   "cell_type": "code",
   "execution_count": null,
   "id": "ca7a42d3-cede-4f32-8a19-6b6c7043eb41",
   "metadata": {},
   "outputs": [],
   "source": [
    "       \n",
    "        "
   ]
  },
  {
   "cell_type": "code",
   "execution_count": null,
   "id": "1e3e9fa6-bb1c-4711-8f54-04f9edab6a92",
   "metadata": {},
   "outputs": [],
   "source": []
  }
 ],
 "metadata": {
  "kernelspec": {
   "display_name": "Python 3 (ipykernel)",
   "language": "python",
   "name": "python3"
  },
  "language_info": {
   "codemirror_mode": {
    "name": "ipython",
    "version": 3
   },
   "file_extension": ".py",
   "mimetype": "text/x-python",
   "name": "python",
   "nbconvert_exporter": "python",
   "pygments_lexer": "ipython3",
   "version": "3.8.10"
  }
 },
 "nbformat": 4,
 "nbformat_minor": 5
}
